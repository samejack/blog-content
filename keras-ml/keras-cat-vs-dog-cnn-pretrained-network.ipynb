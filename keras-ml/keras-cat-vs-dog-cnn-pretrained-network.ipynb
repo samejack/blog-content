{
  "nbformat": 4,
  "nbformat_minor": 0,
  "metadata": {
    "colab": {
      "provenance": []
    },
    "kernelspec": {
      "name": "python3",
      "display_name": "Python 3"
    },
    "accelerator": "GPU"
  },
  "cells": [
    {
      "cell_type": "markdown",
      "metadata": {
        "id": "HM3rJBXBgAVU"
      },
      "source": [
        "# Keras 利用微調預先訓練神經網路法訓練貓狗分類器\n",
        "\n",
        "## 透過 Kaggle API 下載 Play Dataset\n",
        "\n",
        "先從 Kaggle 下載資料集，這裡需要註冊 Kaggle 的帳號，並且取得 API Key，記得置換為自己的 API Token 才能下載資料。"
      ]
    },
    {
      "cell_type": "code",
      "metadata": {
        "id": "TAQRWCI47MBK",
        "colab": {
          "base_uri": "https://localhost:8080/",
          "height": 140
        },
        "outputId": "fc0dbcf7-4a60-4267-ee1c-98d2ae17026c"
      },
      "source": [
        "#!pip install kaggle\n",
        "api_token = {\"username\":\"your_username\",\"key\":\"\"}\n",
        "import json\n",
        "import zipfile\n",
        "import os\n",
        "\n",
        "if not os.path.exists(\"/root/.kaggle\"):\n",
        "    os.makedirs(\"/root/.kaggle\")\n",
        "\n",
        "with open('/root/.kaggle/kaggle.json', 'w') as file:\n",
        "    json.dump(api_token, file)\n",
        "!chmod 600 /root/.kaggle/kaggle.json\n",
        "\n",
        "if not os.path.exists(\"/kaggle\"):\n",
        "    os.makedirs(\"/kaggle\")\n",
        "os.chdir('/kaggle')\n",
        "!kaggle datasets download -d chetankv/dogs-cats-images\n",
        "\n",
        "!ls -alh '/kaggle'"
      ],
      "execution_count": null,
      "outputs": [
        {
          "output_type": "stream",
          "text": [
            "Downloading dogs-cats-images.zip to /kaggle\n",
            " 98% 425M/435M [00:06<00:00, 81.5MB/s]\n",
            "100% 435M/435M [00:06<00:00, 74.2MB/s]\n",
            "total 435M\n",
            "drwxr-xr-x 2 root root 4.0K May 26 02:47 .\n",
            "drwxr-xr-x 1 root root 4.0K May 26 02:47 ..\n",
            "-rw-r--r-- 1 root root 435M May 26 02:47 dogs-cats-images.zip\n"
          ],
          "name": "stdout"
        }
      ]
    },
    {
      "cell_type": "code",
      "metadata": {
        "id": "cNSZTgOUDfl8"
      },
      "source": [
        "!unzip 'dogs-cats-images.zip' > /dev/null"
      ],
      "execution_count": null,
      "outputs": []
    },
    {
      "cell_type": "markdown",
      "metadata": {
        "id": "SF0rupuu7gQk"
      },
      "source": [
        "看看資料的基本結構，貓與狗訓練資料夾各有 4000 張，測試資料夾各有 1000 張影像"
      ]
    },
    {
      "cell_type": "code",
      "metadata": {
        "id": "c-fK4ybQD1df",
        "colab": {
          "base_uri": "https://localhost:8080/",
          "height": 158
        },
        "outputId": "a658344e-1c3a-44f9-836a-5e7d0f241779"
      },
      "source": [
        "!echo \"training_set cats: \"\n",
        "!echo `ls -alh '/kaggle/dataset/training_set/cats' | grep cat | wc -l`\n",
        "!echo \"training_set dogs: \"\n",
        "!echo `ls -alh '/kaggle/dataset/training_set/dogs' | grep dog | wc -l`\n",
        "!echo \"test_set cats: \"\n",
        "!echo `ls -alh '/kaggle/dataset/test_set/cats' | grep cat | wc -l`\n",
        "!echo \"test_set dogs: \"\n",
        "!echo `ls -alh '/kaggle/dataset/test_set/dogs' | grep dog | wc -l`"
      ],
      "execution_count": null,
      "outputs": [
        {
          "output_type": "stream",
          "text": [
            "training_set cats: \n",
            "4000\n",
            "training_set dogs: \n",
            "4000\n",
            "test_set cats: \n",
            "1000\n",
            "test_set dogs: \n",
            "1000\n"
          ],
          "name": "stdout"
        }
      ]
    },
    {
      "cell_type": "markdown",
      "metadata": {
        "id": "nES1CE--7rv5"
      },
      "source": [
        "## 資料處理\n",
        "\n",
        "我們上面從 Kaggle 下載的檔案全部都是圖片，由於我們想要從頭訓練一個可以分辨貓或狗的 CNN 網路，開始以前需要先將影像資料進行處理，轉換為可以送進 Keras 網路進行訓練的「張量」。並且依據我們選用的損失函數方法，處理對應標準答案的格式。\n",
        "\n",
        "由於我們今天不會用到全部的資料，我們只會在兩種類別取用 1000 張進行訓練，500 張進行訓練驗證，500 張進行測試。"
      ]
    },
    {
      "cell_type": "code",
      "metadata": {
        "id": "YnwrNtM5BxAs",
        "colab": {
          "base_uri": "https://localhost:8080/",
          "height": 122
        },
        "outputId": "51f13d2d-8acc-4905-b134-79c9e9fbf420"
      },
      "source": [
        "\n",
        "\n",
        "import os, shutil\n",
        "\n",
        "# The path to the directory where the original\n",
        "# dataset was uncompressed\n",
        "original_dataset_dir = '/kaggle/dataset'\n",
        "\n",
        "# The directory where we will\n",
        "# store our smaller dataset\n",
        "base_dir = '/play'\n",
        "if not os.path.exists(base_dir):\n",
        "    os.mkdir(base_dir)\n",
        "\n",
        "# Directories for our training,\n",
        "# validation and test splits\n",
        "train_dir = os.path.join(base_dir, 'train')\n",
        "if not os.path.exists(train_dir):\n",
        "    os.mkdir(train_dir)\n",
        "validation_dir = os.path.join(base_dir, 'validation')\n",
        "if not os.path.exists(validation_dir):\n",
        "    os.mkdir(validation_dir)\n",
        "test_dir = os.path.join(base_dir, 'test')\n",
        "if not os.path.exists(test_dir):\n",
        "    os.mkdir(test_dir)\n",
        "\n",
        "# Directory with our training cat pictures\n",
        "train_cats_dir = os.path.join(train_dir, 'cats')\n",
        "if not os.path.exists(train_cats_dir):\n",
        "    os.mkdir(train_cats_dir)\n",
        "\n",
        "# Directory with our training dog pictures\n",
        "train_dogs_dir = os.path.join(train_dir, 'dogs')\n",
        "if not os.path.exists(train_dogs_dir):\n",
        "    os.mkdir(train_dogs_dir)\n",
        "\n",
        "# Directory with our validation cat pictures\n",
        "validation_cats_dir = os.path.join(validation_dir, 'cats')\n",
        "if not os.path.exists(validation_cats_dir):\n",
        "    os.mkdir(validation_cats_dir)\n",
        "\n",
        "# Directory with our validation dog pictures\n",
        "validation_dogs_dir = os.path.join(validation_dir, 'dogs')\n",
        "if not os.path.exists(validation_dogs_dir):\n",
        "    os.mkdir(validation_dogs_dir)\n",
        "\n",
        "# Directory with our validation cat pictures\n",
        "test_cats_dir = os.path.join(test_dir, 'cats')\n",
        "if not os.path.exists(test_cats_dir):\n",
        "    os.mkdir(test_cats_dir)\n",
        "\n",
        "# Directory with our validation dog pictures\n",
        "test_dogs_dir = os.path.join(test_dir, 'dogs')\n",
        "if not os.path.exists(test_dogs_dir):\n",
        "    os.mkdir(test_dogs_dir)\n",
        "\n",
        "# Copy first 1000 cat images to train_cats_dir\n",
        "fnames = ['cat.{}.jpg'.format(i) for i in range(1, 1001)]\n",
        "for fname in fnames:\n",
        "    src = os.path.join(original_dataset_dir, 'training_set', 'cats', fname)\n",
        "    dst = os.path.join(train_cats_dir, fname)\n",
        "    shutil.copyfile(src, dst)\n",
        "\n",
        "# Copy next 500 cat images to validation_cats_dir\n",
        "fnames = ['cat.{}.jpg'.format(i) for i in range(4001, 4501)]\n",
        "for fname in fnames:\n",
        "    src = os.path.join(original_dataset_dir, 'test_set', 'cats', fname)\n",
        "    dst = os.path.join(validation_cats_dir, fname)\n",
        "    shutil.copyfile(src, dst)\n",
        "    \n",
        "# Copy next 500 cat images to test_cats_dir\n",
        "fnames = ['cat.{}.jpg'.format(i) for i in range(4501, 5001)]\n",
        "for fname in fnames:\n",
        "    src = os.path.join(original_dataset_dir, 'test_set', 'cats', fname)\n",
        "    dst = os.path.join(test_cats_dir, fname)\n",
        "    shutil.copyfile(src, dst)\n",
        "    \n",
        "# Copy first 1000 dog images to train_dogs_dir\n",
        "fnames = ['dog.{}.jpg'.format(i) for i in range(1, 1001)]\n",
        "for fname in fnames:\n",
        "    src = os.path.join(original_dataset_dir, 'training_set', 'dogs', fname)\n",
        "    dst = os.path.join(train_dogs_dir, fname)\n",
        "    shutil.copyfile(src, dst)\n",
        "    \n",
        "# Copy next 500 dog images to validation_dogs_dir\n",
        "fnames = ['dog.{}.jpg'.format(i) for i in range(4001, 4501)]\n",
        "for fname in fnames:\n",
        "    src = os.path.join(original_dataset_dir, 'test_set', 'dogs', fname)\n",
        "    dst = os.path.join(validation_dogs_dir, fname)\n",
        "    shutil.copyfile(src, dst)\n",
        "    \n",
        "# Copy next 500 dog images to test_dogs_dir\n",
        "fnames = ['dog.{}.jpg'.format(i) for i in range(4501, 5001)]\n",
        "for fname in fnames:\n",
        "    src = os.path.join(original_dataset_dir, 'test_set', 'dogs', fname)\n",
        "    dst = os.path.join(test_dogs_dir, fname)\n",
        "    shutil.copyfile(src, dst)\n",
        "\n",
        "print('total training cat images:', len(os.listdir(train_cats_dir)))\n",
        "print('total training dog images:', len(os.listdir(train_dogs_dir)))\n",
        "print('total validation cat images:', len(os.listdir(validation_cats_dir)))\n",
        "print('total validation dog images:', len(os.listdir(validation_dogs_dir)))\n",
        "print('total test cat images:', len(os.listdir(test_cats_dir)))\n",
        "print('total test dog images:', len(os.listdir(test_dogs_dir)))"
      ],
      "execution_count": null,
      "outputs": [
        {
          "output_type": "stream",
          "text": [
            "total training cat images: 1000\n",
            "total training dog images: 1000\n",
            "total validation cat images: 500\n",
            "total validation dog images: 500\n",
            "total test cat images: 500\n",
            "total test dog images: 500\n"
          ],
          "name": "stdout"
        }
      ]
    },
    {
      "cell_type": "markdown",
      "metadata": {
        "id": "gxUW9ESP8vye"
      },
      "source": [
        "# 使用已經訓練好的 VGG16 經典網路\n",
        "\n",
        "這裡先取用 VGG16 CNN Base，用來擷取特徵，後面會比較對 CNN Base 重新訓練的效果差異。"
      ]
    },
    {
      "cell_type": "code",
      "metadata": {
        "id": "MZEnme1hAO8X",
        "colab": {
          "base_uri": "https://localhost:8080/",
          "height": 879
        },
        "outputId": "adc4c2e2-4e0c-422c-9c1c-c55a961e6604"
      },
      "source": [
        "# 載入 VGG 網路 Convolutional Base\n",
        "from keras.applications import VGG16\n",
        "\n",
        "conv_base = VGG16(weights='imagenet',\n",
        "                  include_top=False,             # 不包含 Full Connection\n",
        "                  input_shape=(150, 150, 3))\n",
        "\n",
        "conv_base.summary()"
      ],
      "execution_count": null,
      "outputs": [
        {
          "output_type": "stream",
          "text": [
            "Using TensorFlow backend.\n"
          ],
          "name": "stderr"
        },
        {
          "output_type": "stream",
          "text": [
            "Downloading data from https://github.com/fchollet/deep-learning-models/releases/download/v0.1/vgg16_weights_tf_dim_ordering_tf_kernels_notop.h5\n",
            "58892288/58889256 [==============================] - 3s 0us/step\n",
            "Model: \"vgg16\"\n",
            "_________________________________________________________________\n",
            "Layer (type)                 Output Shape              Param #   \n",
            "=================================================================\n",
            "input_1 (InputLayer)         (None, 150, 150, 3)       0         \n",
            "_________________________________________________________________\n",
            "block1_conv1 (Conv2D)        (None, 150, 150, 64)      1792      \n",
            "_________________________________________________________________\n",
            "block1_conv2 (Conv2D)        (None, 150, 150, 64)      36928     \n",
            "_________________________________________________________________\n",
            "block1_pool (MaxPooling2D)   (None, 75, 75, 64)        0         \n",
            "_________________________________________________________________\n",
            "block2_conv1 (Conv2D)        (None, 75, 75, 128)       73856     \n",
            "_________________________________________________________________\n",
            "block2_conv2 (Conv2D)        (None, 75, 75, 128)       147584    \n",
            "_________________________________________________________________\n",
            "block2_pool (MaxPooling2D)   (None, 37, 37, 128)       0         \n",
            "_________________________________________________________________\n",
            "block3_conv1 (Conv2D)        (None, 37, 37, 256)       295168    \n",
            "_________________________________________________________________\n",
            "block3_conv2 (Conv2D)        (None, 37, 37, 256)       590080    \n",
            "_________________________________________________________________\n",
            "block3_conv3 (Conv2D)        (None, 37, 37, 256)       590080    \n",
            "_________________________________________________________________\n",
            "block3_pool (MaxPooling2D)   (None, 18, 18, 256)       0         \n",
            "_________________________________________________________________\n",
            "block4_conv1 (Conv2D)        (None, 18, 18, 512)       1180160   \n",
            "_________________________________________________________________\n",
            "block4_conv2 (Conv2D)        (None, 18, 18, 512)       2359808   \n",
            "_________________________________________________________________\n",
            "block4_conv3 (Conv2D)        (None, 18, 18, 512)       2359808   \n",
            "_________________________________________________________________\n",
            "block4_pool (MaxPooling2D)   (None, 9, 9, 512)         0         \n",
            "_________________________________________________________________\n",
            "block5_conv1 (Conv2D)        (None, 9, 9, 512)         2359808   \n",
            "_________________________________________________________________\n",
            "block5_conv2 (Conv2D)        (None, 9, 9, 512)         2359808   \n",
            "_________________________________________________________________\n",
            "block5_conv3 (Conv2D)        (None, 9, 9, 512)         2359808   \n",
            "_________________________________________________________________\n",
            "block5_pool (MaxPooling2D)   (None, 4, 4, 512)         0         \n",
            "=================================================================\n",
            "Total params: 14,714,688\n",
            "Trainable params: 14,714,688\n",
            "Non-trainable params: 0\n",
            "_________________________________________________________________\n"
          ],
          "name": "stdout"
        }
      ]
    },
    {
      "cell_type": "markdown",
      "metadata": {
        "id": "jvrZbrQP9PKD"
      },
      "source": [
        "輸入要訓練的影像到 VGG16 CNN Base 獲取 predict 後的特徵值。\n"
      ]
    },
    {
      "cell_type": "code",
      "metadata": {
        "id": "1S5x1GPfjH6b",
        "colab": {
          "base_uri": "https://localhost:8080/",
          "height": 70
        },
        "outputId": "9b8af727-0d9c-453e-bb9c-b6281e5a9e6b"
      },
      "source": [
        "import os\n",
        "import numpy as np\n",
        "from keras.preprocessing.image import ImageDataGenerator\n",
        "\n",
        "datagen = ImageDataGenerator(rescale=1./255)\n",
        "batch_size = 20\n",
        "\n",
        "def extract_features(directory, sample_count):\n",
        "    features = np.zeros(shape=(sample_count, 4, 4, 512))\n",
        "    labels = np.zeros(shape=(sample_count))\n",
        "    generator = datagen.flow_from_directory(\n",
        "        directory,\n",
        "        target_size=(150, 150),\n",
        "        batch_size=batch_size,\n",
        "        class_mode='binary')\n",
        "    i = 0\n",
        "    for inputs_batch, labels_batch in generator:\n",
        "        features_batch = conv_base.predict(inputs_batch)\n",
        "        features[i * batch_size : (i + 1) * batch_size] = features_batch\n",
        "        labels[i * batch_size : (i + 1) * batch_size] = labels_batch\n",
        "        i += 1\n",
        "        if i * batch_size >= sample_count:\n",
        "            # Note that since generators yield data indefinitely in a loop,\n",
        "            # we must `break` after every image has been seen once.\n",
        "            break\n",
        "    return features, labels\n",
        "\n",
        "train_features, train_labels = extract_features(train_dir, 2000)\n",
        "validation_features, validation_labels = extract_features(validation_dir, 1000)\n",
        "test_features, test_labels = extract_features(test_dir, 1000)"
      ],
      "execution_count": null,
      "outputs": [
        {
          "output_type": "stream",
          "text": [
            "Found 2000 images belonging to 2 classes.\n",
            "Found 1000 images belonging to 2 classes.\n",
            "Found 1000 images belonging to 2 classes.\n"
          ],
          "name": "stdout"
        }
      ]
    },
    {
      "cell_type": "code",
      "metadata": {
        "id": "ZuJS7BCrjigR"
      },
      "source": [
        "train_features = np.reshape(train_features, (2000, 4 * 4 * 512))\n",
        "validation_features = np.reshape(validation_features, (1000, 4 * 4 * 512))\n",
        "test_features = np.reshape(test_features, (1000, 4 * 4 * 512))"
      ],
      "execution_count": null,
      "outputs": []
    },
    {
      "cell_type": "markdown",
      "metadata": {
        "id": "36IhHBBbjttK"
      },
      "source": [
        "# 比較「特徵擷取法」與「微調預先訓練神經網路法」的差異\n",
        "\n",
        "先實做基本的特徵擷取法 (可以參考前一個章節)，把剛剛透過 CNN Base 得到的特徵送進網路進行訓練，回顧一下作法順便比較。\n",
        "\n",
        "### 特徵擷取法：大約 90% 正確率\n"
      ]
    },
    {
      "cell_type": "code",
      "metadata": {
        "id": "-kB5NG9citks",
        "colab": {
          "base_uri": "https://localhost:8080/",
          "height": 1000
        },
        "outputId": "95dd69e3-1992-4b6b-bef7-51a14514541f"
      },
      "source": [
        "\n",
        "from keras import models\n",
        "from keras import layers\n",
        "from keras import optimizers\n",
        "\n",
        "model = models.Sequential()\n",
        "model.add(layers.Dense(256, activation='relu', input_dim=4 * 4 * 512))\n",
        "model.add(layers.Dropout(0.5))\n",
        "model.add(layers.Dense(1, activation='sigmoid'))\n",
        "\n",
        "model.summary()\n",
        "\n",
        "model.compile(optimizer=optimizers.RMSprop(lr=2e-5),\n",
        "              loss='binary_crossentropy',\n",
        "              metrics=['acc'])\n",
        "\n",
        "history = model.fit(train_features, train_labels,\n",
        "                    epochs=30,\n",
        "                    batch_size=20,\n",
        "                    validation_data=(validation_features, validation_labels))"
      ],
      "execution_count": null,
      "outputs": [
        {
          "output_type": "stream",
          "text": [
            "Model: \"sequential_1\"\n",
            "_________________________________________________________________\n",
            "Layer (type)                 Output Shape              Param #   \n",
            "=================================================================\n",
            "dense_1 (Dense)              (None, 256)               2097408   \n",
            "_________________________________________________________________\n",
            "dropout_1 (Dropout)          (None, 256)               0         \n",
            "_________________________________________________________________\n",
            "dense_2 (Dense)              (None, 1)                 257       \n",
            "=================================================================\n",
            "Total params: 2,097,665\n",
            "Trainable params: 2,097,665\n",
            "Non-trainable params: 0\n",
            "_________________________________________________________________\n",
            "Train on 2000 samples, validate on 1000 samples\n",
            "Epoch 1/30\n",
            "2000/2000 [==============================] - 1s 466us/step - loss: 0.6023 - acc: 0.6685 - val_loss: 0.4481 - val_acc: 0.8250\n",
            "Epoch 2/30\n",
            "2000/2000 [==============================] - 1s 342us/step - loss: 0.4383 - acc: 0.8015 - val_loss: 0.3713 - val_acc: 0.8560\n",
            "Epoch 3/30\n",
            "2000/2000 [==============================] - 1s 335us/step - loss: 0.3709 - acc: 0.8325 - val_loss: 0.3309 - val_acc: 0.8720\n",
            "Epoch 4/30\n",
            "2000/2000 [==============================] - 1s 340us/step - loss: 0.3124 - acc: 0.8755 - val_loss: 0.3411 - val_acc: 0.8510\n",
            "Epoch 5/30\n",
            "2000/2000 [==============================] - 1s 350us/step - loss: 0.2871 - acc: 0.8895 - val_loss: 0.2965 - val_acc: 0.8830\n",
            "Epoch 6/30\n",
            "2000/2000 [==============================] - 1s 340us/step - loss: 0.2645 - acc: 0.8935 - val_loss: 0.2828 - val_acc: 0.8900\n",
            "Epoch 7/30\n",
            "2000/2000 [==============================] - 1s 351us/step - loss: 0.2417 - acc: 0.9115 - val_loss: 0.2774 - val_acc: 0.8970\n",
            "Epoch 8/30\n",
            "2000/2000 [==============================] - 1s 370us/step - loss: 0.2273 - acc: 0.9080 - val_loss: 0.2694 - val_acc: 0.8990\n",
            "Epoch 9/30\n",
            "2000/2000 [==============================] - 1s 364us/step - loss: 0.2186 - acc: 0.9155 - val_loss: 0.2617 - val_acc: 0.8990\n",
            "Epoch 10/30\n",
            "2000/2000 [==============================] - 1s 368us/step - loss: 0.2055 - acc: 0.9200 - val_loss: 0.2590 - val_acc: 0.9000\n",
            "Epoch 11/30\n",
            "2000/2000 [==============================] - 1s 392us/step - loss: 0.1903 - acc: 0.9310 - val_loss: 0.2549 - val_acc: 0.8990\n",
            "Epoch 12/30\n",
            "2000/2000 [==============================] - 1s 372us/step - loss: 0.1858 - acc: 0.9360 - val_loss: 0.2518 - val_acc: 0.9020\n",
            "Epoch 13/30\n",
            "2000/2000 [==============================] - 1s 373us/step - loss: 0.1775 - acc: 0.9360 - val_loss: 0.2500 - val_acc: 0.8990\n",
            "Epoch 14/30\n",
            "2000/2000 [==============================] - 1s 367us/step - loss: 0.1755 - acc: 0.9325 - val_loss: 0.2499 - val_acc: 0.9040\n",
            "Epoch 15/30\n",
            "2000/2000 [==============================] - 1s 361us/step - loss: 0.1701 - acc: 0.9415 - val_loss: 0.2473 - val_acc: 0.9020\n",
            "Epoch 16/30\n",
            "2000/2000 [==============================] - 1s 378us/step - loss: 0.1611 - acc: 0.9430 - val_loss: 0.2474 - val_acc: 0.9030\n",
            "Epoch 17/30\n",
            "2000/2000 [==============================] - 1s 372us/step - loss: 0.1546 - acc: 0.9455 - val_loss: 0.2488 - val_acc: 0.9050\n",
            "Epoch 18/30\n",
            "2000/2000 [==============================] - 1s 373us/step - loss: 0.1422 - acc: 0.9520 - val_loss: 0.2428 - val_acc: 0.9010\n",
            "Epoch 19/30\n",
            "2000/2000 [==============================] - 1s 362us/step - loss: 0.1403 - acc: 0.9530 - val_loss: 0.2447 - val_acc: 0.9060\n",
            "Epoch 20/30\n",
            "2000/2000 [==============================] - 1s 369us/step - loss: 0.1362 - acc: 0.9510 - val_loss: 0.2421 - val_acc: 0.9030\n",
            "Epoch 21/30\n",
            "2000/2000 [==============================] - 1s 368us/step - loss: 0.1265 - acc: 0.9560 - val_loss: 0.2440 - val_acc: 0.9100\n",
            "Epoch 22/30\n",
            "2000/2000 [==============================] - 1s 358us/step - loss: 0.1241 - acc: 0.9580 - val_loss: 0.2434 - val_acc: 0.9060\n",
            "Epoch 23/30\n",
            "2000/2000 [==============================] - 1s 377us/step - loss: 0.1193 - acc: 0.9610 - val_loss: 0.2401 - val_acc: 0.9050\n",
            "Epoch 24/30\n",
            "2000/2000 [==============================] - 1s 360us/step - loss: 0.1124 - acc: 0.9670 - val_loss: 0.2452 - val_acc: 0.9070\n",
            "Epoch 25/30\n",
            "2000/2000 [==============================] - 1s 384us/step - loss: 0.1067 - acc: 0.9645 - val_loss: 0.2399 - val_acc: 0.9020\n",
            "Epoch 26/30\n",
            "2000/2000 [==============================] - 1s 368us/step - loss: 0.1079 - acc: 0.9690 - val_loss: 0.2391 - val_acc: 0.9020\n",
            "Epoch 27/30\n",
            "2000/2000 [==============================] - 1s 377us/step - loss: 0.1005 - acc: 0.9700 - val_loss: 0.2419 - val_acc: 0.9110\n",
            "Epoch 28/30\n",
            "2000/2000 [==============================] - 1s 373us/step - loss: 0.0948 - acc: 0.9710 - val_loss: 0.2401 - val_acc: 0.9010\n",
            "Epoch 29/30\n",
            "2000/2000 [==============================] - 1s 366us/step - loss: 0.0913 - acc: 0.9735 - val_loss: 0.2408 - val_acc: 0.9020\n",
            "Epoch 30/30\n",
            "2000/2000 [==============================] - 1s 358us/step - loss: 0.0890 - acc: 0.9760 - val_loss: 0.2413 - val_acc: 0.9060\n"
          ],
          "name": "stdout"
        }
      ]
    },
    {
      "cell_type": "markdown",
      "metadata": {
        "id": "5IS_-lmi_YaR"
      },
      "source": [
        "## 圖表分析「特徵擷取法」訓練結果\n",
        "\n",
        "一般的特徵擷取法正確率大約 0.9 左右。"
      ]
    },
    {
      "cell_type": "code",
      "metadata": {
        "id": "AiJ6ch5Gj0OD",
        "colab": {
          "base_uri": "https://localhost:8080/",
          "height": 545
        },
        "outputId": "141b2b1d-ee1b-4b56-fb5d-df073b424f0e"
      },
      "source": [
        "import matplotlib.pyplot as plt\n",
        "\n",
        "acc = history.history['acc']\n",
        "val_acc = history.history['val_acc']\n",
        "loss = history.history['loss']\n",
        "val_loss = history.history['val_loss']\n",
        "\n",
        "epochs = range(len(acc))\n",
        "\n",
        "plt.plot(epochs, acc, 'bo', label='Training acc')\n",
        "plt.plot(epochs, val_acc, 'b', label='Validation acc')\n",
        "plt.title('Training and validation accuracy')\n",
        "plt.legend()\n",
        "\n",
        "plt.figure()\n",
        "\n",
        "plt.plot(epochs, loss, 'bo', label='Training loss')\n",
        "plt.plot(epochs, val_loss, 'b', label='Validation loss')\n",
        "plt.title('Training and validation loss')\n",
        "plt.legend()\n",
        "\n",
        "plt.show()"
      ],
      "execution_count": null,
      "outputs": [
        {
          "output_type": "display_data",
          "data": {
            "image/png": "[encoded data removed]",
            "text/plain": [
              "<Figure size 432x288 with 1 Axes>"
            ]
          },
          "metadata": {
            "tags": [],
            "needs_background": "light"
          }
        },
        {
          "output_type": "display_data",
          "data": {
            "image/png": "[encoded data removed]",
            "text/plain": [
              "<Figure size 432x288 with 1 Axes>"
            ]
          },
          "metadata": {
            "tags": [],
            "needs_background": "light"
          }
        }
      ]
    },
    {
      "cell_type": "markdown",
      "metadata": {
        "id": "N9rz9gMqAf11"
      },
      "source": [
        "# 微調預先訓練神經網路法\n",
        "\n",
        "這裡我們要聯合 VGG16 CNN Base 進行學習，解凍 (Freeze) 一些卷積基底「頂部」的某些層用於特徵擷取，並對新加入的 Full Connection Layer 進行聯合訓練。由於稍稍調整了原本 CNN 基底的表示法，所以叫做「微調」。\n",
        "\n",
        "開始以前，我們先只是進行聯合學習，使用 VGG16 CNN Base 接上我們自己的 Full Connection Layer 進行完整的學習。對於 VGG16 CNN 的參數是「凍結」的狀態。\n",
        "\n",
        "### 預先訓練神經網路法(凍結 CNN)：大約 96% 正確率\n",
        "\n"
      ]
    },
    {
      "cell_type": "code",
      "metadata": {
        "id": "zMfCCxt5lV83",
        "colab": {
          "base_uri": "https://localhost:8080/",
          "height": 298
        },
        "outputId": "f482afed-e09d-4352-e304-eb0da1146b55"
      },
      "source": [
        "from keras import models\n",
        "from keras import layers\n",
        "\n",
        "model = models.Sequential()\n",
        "model.add(conv_base)\n",
        "model.add(layers.Flatten())\n",
        "model.add(layers.Dense(256, activation='relu'))\n",
        "model.add(layers.Dense(1, activation='sigmoid'))\n",
        "\n",
        "model.summary()"
      ],
      "execution_count": null,
      "outputs": [
        {
          "output_type": "stream",
          "text": [
            "Model: \"sequential_2\"\n",
            "_________________________________________________________________\n",
            "Layer (type)                 Output Shape              Param #   \n",
            "=================================================================\n",
            "vgg16 (Model)                (None, 4, 4, 512)         14714688  \n",
            "_________________________________________________________________\n",
            "flatten_1 (Flatten)          (None, 8192)              0         \n",
            "_________________________________________________________________\n",
            "dense_3 (Dense)              (None, 256)               2097408   \n",
            "_________________________________________________________________\n",
            "dense_4 (Dense)              (None, 1)                 257       \n",
            "=================================================================\n",
            "Total params: 16,812,353\n",
            "Trainable params: 16,812,353\n",
            "Non-trainable params: 0\n",
            "_________________________________________________________________\n"
          ],
          "name": "stdout"
        }
      ]
    },
    {
      "cell_type": "code",
      "metadata": {
        "id": "qxpIJtfelzy3",
        "colab": {
          "base_uri": "https://localhost:8080/",
          "height": 1000
        },
        "outputId": "6eafb1f1-2151-45fc-bdfd-b95543502ca3"
      },
      "source": [
        "from keras.preprocessing.image import ImageDataGenerator\n",
        "\n",
        "train_datagen = ImageDataGenerator(\n",
        "      rescale=1./255,\n",
        "      rotation_range=40,\n",
        "      width_shift_range=0.2,\n",
        "      height_shift_range=0.2,\n",
        "      shear_range=0.2,\n",
        "      zoom_range=0.2,\n",
        "      horizontal_flip=True,\n",
        "      fill_mode='nearest')\n",
        "\n",
        "# Note that the validation data should not be augmented!\n",
        "test_datagen = ImageDataGenerator(rescale=1./255)\n",
        "\n",
        "train_generator = train_datagen.flow_from_directory(\n",
        "        # This is the target directory\n",
        "        train_dir,\n",
        "        # All images will be resized to 150x150\n",
        "        target_size=(150, 150),\n",
        "        batch_size=20,\n",
        "        # Since we use binary_crossentropy loss, we need binary labels\n",
        "        class_mode='binary')\n",
        "\n",
        "validation_generator = test_datagen.flow_from_directory(\n",
        "        validation_dir,\n",
        "        target_size=(150, 150),\n",
        "        batch_size=20,\n",
        "        class_mode='binary')\n",
        "\n",
        "model.compile(loss='binary_crossentropy',\n",
        "              optimizer=optimizers.RMSprop(lr=2e-5),\n",
        "              metrics=['acc'])\n",
        "\n",
        "history = model.fit_generator(\n",
        "      train_generator,\n",
        "      steps_per_epoch=100,\n",
        "      epochs=30,\n",
        "      validation_data=validation_generator,\n",
        "      validation_steps=50,\n",
        "      verbose=2)"
      ],
      "execution_count": null,
      "outputs": [
        {
          "output_type": "stream",
          "text": [
            "Found 2000 images belonging to 2 classes.\n",
            "Found 1000 images belonging to 2 classes.\n",
            "Epoch 1/30\n",
            " - 47s - loss: 0.4913 - acc: 0.7550 - val_loss: 0.1636 - val_acc: 0.9090\n",
            "Epoch 2/30\n",
            " - 43s - loss: 0.2807 - acc: 0.8905 - val_loss: 0.0292 - val_acc: 0.9400\n",
            "Epoch 3/30\n",
            " - 43s - loss: 0.2226 - acc: 0.9045 - val_loss: 0.0633 - val_acc: 0.9400\n",
            "Epoch 4/30\n",
            " - 43s - loss: 0.1818 - acc: 0.9295 - val_loss: 0.0384 - val_acc: 0.9280\n",
            "Epoch 5/30\n",
            " - 43s - loss: 0.1730 - acc: 0.9330 - val_loss: 0.0550 - val_acc: 0.9500\n",
            "Epoch 6/30\n",
            " - 43s - loss: 0.1356 - acc: 0.9450 - val_loss: 0.1659 - val_acc: 0.9510\n",
            "Epoch 7/30\n",
            " - 43s - loss: 0.1249 - acc: 0.9505 - val_loss: 0.1290 - val_acc: 0.9440\n",
            "Epoch 8/30\n",
            " - 43s - loss: 0.1013 - acc: 0.9550 - val_loss: 0.0028 - val_acc: 0.9540\n",
            "Epoch 9/30\n",
            " - 43s - loss: 0.1084 - acc: 0.9600 - val_loss: 0.1132 - val_acc: 0.9590\n",
            "Epoch 10/30\n",
            " - 43s - loss: 0.0874 - acc: 0.9665 - val_loss: 0.1068 - val_acc: 0.9610\n",
            "Epoch 11/30\n",
            " - 43s - loss: 0.0705 - acc: 0.9745 - val_loss: 0.6204 - val_acc: 0.9210\n",
            "Epoch 12/30\n",
            " - 43s - loss: 0.0833 - acc: 0.9670 - val_loss: 0.1577 - val_acc: 0.9540\n",
            "Epoch 13/30\n",
            " - 43s - loss: 0.0816 - acc: 0.9670 - val_loss: 0.3944 - val_acc: 0.9610\n",
            "Epoch 14/30\n",
            " - 43s - loss: 0.0801 - acc: 0.9715 - val_loss: 0.1214 - val_acc: 0.9460\n",
            "Epoch 15/30\n",
            " - 43s - loss: 0.0674 - acc: 0.9770 - val_loss: 0.1930 - val_acc: 0.9580\n",
            "Epoch 16/30\n",
            " - 43s - loss: 0.0573 - acc: 0.9785 - val_loss: 0.0029 - val_acc: 0.9680\n",
            "Epoch 17/30\n",
            " - 43s - loss: 0.0553 - acc: 0.9800 - val_loss: 0.0073 - val_acc: 0.9650\n",
            "Epoch 18/30\n",
            " - 43s - loss: 0.0658 - acc: 0.9740 - val_loss: 0.3992 - val_acc: 0.9590\n",
            "Epoch 19/30\n",
            " - 43s - loss: 0.0599 - acc: 0.9785 - val_loss: 5.7029e-04 - val_acc: 0.9490\n",
            "Epoch 20/30\n",
            " - 43s - loss: 0.0608 - acc: 0.9785 - val_loss: 0.0396 - val_acc: 0.9670\n",
            "Epoch 21/30\n",
            " - 43s - loss: 0.0421 - acc: 0.9845 - val_loss: 0.1326 - val_acc: 0.9600\n",
            "Epoch 22/30\n",
            " - 43s - loss: 0.0330 - acc: 0.9900 - val_loss: 0.0486 - val_acc: 0.9610\n",
            "Epoch 23/30\n",
            " - 43s - loss: 0.0502 - acc: 0.9835 - val_loss: 0.2244 - val_acc: 0.9650\n",
            "Epoch 24/30\n",
            " - 43s - loss: 0.0435 - acc: 0.9875 - val_loss: 0.0225 - val_acc: 0.9560\n",
            "Epoch 25/30\n",
            " - 43s - loss: 0.0352 - acc: 0.9890 - val_loss: 0.1191 - val_acc: 0.9550\n",
            "Epoch 26/30\n",
            " - 43s - loss: 0.0304 - acc: 0.9905 - val_loss: 0.4001 - val_acc: 0.9700\n",
            "Epoch 27/30\n",
            " - 43s - loss: 0.0497 - acc: 0.9890 - val_loss: 1.6797 - val_acc: 0.9610\n",
            "Epoch 28/30\n",
            " - 43s - loss: 0.0432 - acc: 0.9855 - val_loss: 0.0525 - val_acc: 0.9740\n",
            "Epoch 29/30\n",
            " - 43s - loss: 0.0354 - acc: 0.9865 - val_loss: 0.1470 - val_acc: 0.9680\n",
            "Epoch 30/30\n",
            " - 43s - loss: 0.0447 - acc: 0.9850 - val_loss: 0.1793 - val_acc: 0.9630\n"
          ],
          "name": "stdout"
        }
      ]
    },
    {
      "cell_type": "markdown",
      "metadata": {
        "id": "bB4HUnpoEeAL"
      },
      "source": [
        "## 看圖分析訓練成果 - 預先訓練神經網路法(凍結 CNN)：大約 96% 正確率"
      ]
    },
    {
      "cell_type": "code",
      "metadata": {
        "id": "bsMxTTxYeNGO",
        "colab": {
          "base_uri": "https://localhost:8080/",
          "height": 545
        },
        "outputId": "1c806276-783f-41cf-df96-c67a50611966"
      },
      "source": [
        "acc = history.history['acc']\n",
        "val_acc = history.history['val_acc']\n",
        "loss = history.history['loss']\n",
        "val_loss = history.history['val_loss']\n",
        "\n",
        "epochs = range(len(acc))\n",
        "\n",
        "plt.plot(epochs, acc, 'bo', label='Training acc')\n",
        "plt.plot(epochs, val_acc, 'b', label='Validation acc')\n",
        "plt.title('Training and validation accuracy')\n",
        "plt.legend()\n",
        "\n",
        "plt.figure()\n",
        "\n",
        "plt.plot(epochs, loss, 'bo', label='Training loss')\n",
        "plt.plot(epochs, val_loss, 'b', label='Validation loss')\n",
        "plt.title('Training and validation loss')\n",
        "plt.legend()\n",
        "\n",
        "plt.show()"
      ],
      "execution_count": null,
      "outputs": [
        {
          "output_type": "display_data",
          "data": {
            "image/png": "[encoded data removed]",
            "text/plain": [
              "<Figure size 432x288 with 1 Axes>"
            ]
          },
          "metadata": {
            "tags": [],
            "needs_background": "light"
          }
        },
        {
          "output_type": "display_data",
          "data": {
            "image/png": "[encoded data removed]",
            "text/plain": [
              "<Figure size 432x288 with 1 Axes>"
            ]
          },
          "metadata": {
            "tags": [],
            "needs_background": "light"
          }
        }
      ]
    },
    {
      "cell_type": "markdown",
      "metadata": {
        "id": "hFJhNtHUErrb"
      },
      "source": [
        "# 微調預先訓練神經網路法 (解凍 VGG16 block5_conv1)\n",
        "\n",
        "剛剛在套用 VGG16 CNN Base 進行聯合訓練可以到達 96% 準確率，接下來我們要進行「微調」，就是解凍部份已經訓練好的 CNN 網路，藉此提高模型擬合我們新資料的能力。\n",
        "\n",
        "這裡的實驗只有解凍 VGG16 最後一層 (第五層) 的網路權重，並且使用「低學習率」進行調整。解凍網路的方式如下，解凍後要重新 Compile："
      ]
    },
    {
      "cell_type": "code",
      "metadata": {
        "id": "rHSpzeNwmOQ_"
      },
      "source": [
        "conv_base.trainable = True\n",
        "\n",
        "for layer in conv_base.layers:\n",
        "    if layer.name == 'block5_conv1':\n",
        "        layer.trainable = True         # 解凍 CNN 基底\n",
        "    else:\n",
        "        layer.trainable = False\n",
        "\n",
        "model.compile(loss='binary_crossentropy',\n",
        "              optimizer=optimizers.RMSprop(lr=1e-5),  # 低學習率\n",
        "              metrics=['acc'])"
      ],
      "execution_count": null,
      "outputs": []
    },
    {
      "cell_type": "markdown",
      "metadata": {
        "id": "K6xpS22DF4fv"
      },
      "source": [
        "# 重新訓練網路並進行微調"
      ]
    },
    {
      "cell_type": "code",
      "metadata": {
        "id": "4DUnvbp6Fyv_",
        "colab": {
          "base_uri": "https://localhost:8080/",
          "height": 650
        },
        "outputId": "a70a6487-eadb-4a25-9b90-81b239831e18"
      },
      "source": [
        "history = model.fit_generator(\n",
        "      train_generator,\n",
        "      steps_per_epoch=100,\n",
        "      epochs=100,\n",
        "      validation_data=validation_generator,\n",
        "      validation_steps=50)"
      ],
      "execution_count": null,
      "outputs": [
        {
          "output_type": "stream",
          "text": [
            "Epoch 1/100\n",
            "100/100 [==============================] - 28s 280ms/step - loss: 0.0076 - acc: 0.9980 - val_loss: 6.9714e-04 - val_acc: 0.9680\n",
            "Epoch 2/100\n",
            "100/100 [==============================] - 26s 260ms/step - loss: 0.0122 - acc: 0.9955 - val_loss: 1.8630e-07 - val_acc: 0.9680\n",
            "Epoch 3/100\n",
            "100/100 [==============================] - 26s 261ms/step - loss: 0.0042 - acc: 0.9985 - val_loss: 4.5593e-07 - val_acc: 0.9670\n",
            "Epoch 4/100\n",
            "100/100 [==============================] - 26s 261ms/step - loss: 0.0137 - acc: 0.9945 - val_loss: 1.3731 - val_acc: 0.9710\n",
            "Epoch 5/100\n",
            "100/100 [==============================] - 26s 262ms/step - loss: 0.0063 - acc: 0.9975 - val_loss: 0.6549 - val_acc: 0.9700\n",
            "Epoch 6/100\n",
            "100/100 [==============================] - 26s 261ms/step - loss: 0.0160 - acc: 0.9960 - val_loss: 0.0096 - val_acc: 0.9700\n",
            "Epoch 7/100\n",
            "100/100 [==============================] - 26s 264ms/step - loss: 0.0151 - acc: 0.9935 - val_loss: 8.6743e-05 - val_acc: 0.9720\n",
            "Epoch 8/100\n",
            "100/100 [==============================] - 26s 261ms/step - loss: 0.0068 - acc: 0.9975 - val_loss: 1.1675 - val_acc: 0.9710\n",
            "Epoch 9/100\n",
            "100/100 [==============================] - 26s 262ms/step - loss: 0.0090 - acc: 0.9955 - val_loss: 5.2650e-04 - val_acc: 0.9720\n",
            "Epoch 10/100\n",
            "100/100 [==============================] - 26s 262ms/step - loss: 0.0055 - acc: 0.9980 - val_loss: 3.0331e-06 - val_acc: 0.9710\n",
            "Epoch 11/100\n",
            "100/100 [==============================] - 26s 262ms/step - loss: 0.0028 - acc: 0.9995 - val_loss: 1.2661e-08 - val_acc: 0.9720\n",
            "Epoch 12/100\n",
            "100/100 [==============================] - 26s 262ms/step - loss: 0.0093 - acc: 0.9970 - val_loss: 2.3496e-05 - val_acc: 0.9710\n",
            "Epoch 13/100\n",
            "100/100 [==============================] - 26s 261ms/step - loss: 0.0111 - acc: 0.9965 - val_loss: 0.0013 - val_acc: 0.9730\n",
            "Epoch 14/100\n",
            "100/100 [==============================] - 26s 263ms/step - loss: 0.0137 - acc: 0.9970 - val_loss: 0.0254 - val_acc: 0.9710\n",
            "Epoch 15/100\n",
            "100/100 [==============================] - 26s 262ms/step - loss: 0.0078 - acc: 0.9975 - val_loss: 1.3910e-05 - val_acc: 0.9700\n",
            "Epoch 16/100\n",
            "100/100 [==============================] - 26s 263ms/step - loss: 0.0094 - acc: 0.9970 - val_loss: 6.3087e-06 - val_acc: 0.9730\n",
            "Epoch 17/100\n",
            "100/100 [==============================] - 26s 263ms/step - loss: 0.0071 - acc: 0.9980 - val_loss: 9.6122e-04 - val_acc: 0.9730\n",
            "Epoch 18/100\n",
            " 35/100 [=========>....................] - ETA: 11s - loss: 0.0046 - acc: 0.9986"
          ],
          "name": "stdout"
        }
      ]
    },
    {
      "cell_type": "markdown",
      "metadata": {
        "id": "JJz2xjH8GZSv"
      },
      "source": [
        "## 透過圖表進行分析 - 預先訓練神經網路法(凍結 CNN)：大約 97% 正確率"
      ]
    },
    {
      "cell_type": "code",
      "metadata": {
        "id": "VbD38zCYmjO1"
      },
      "source": [
        "def smooth_curve(points, factor=0.8):\n",
        "  smoothed_points = []\n",
        "  for point in points:\n",
        "    if smoothed_points:\n",
        "      previous = smoothed_points[-1]\n",
        "      smoothed_points.append(previous * factor + point * (1 - factor))\n",
        "    else:\n",
        "      smoothed_points.append(point)\n",
        "  return smoothed_points\n",
        "\n",
        "plt.plot(epochs,\n",
        "         smooth_curve(acc), 'bo', label='Smoothed training acc')\n",
        "plt.plot(epochs,\n",
        "         smooth_curve(val_acc), 'b', label='Smoothed validation acc')\n",
        "plt.title('Training and validation accuracy')\n",
        "plt.legend()\n",
        "\n",
        "plt.figure()\n",
        "\n",
        "plt.plot(epochs,\n",
        "         smooth_curve(loss), 'bo', label='Smoothed training loss')\n",
        "plt.plot(epochs,\n",
        "         smooth_curve(val_loss), 'b', label='Smoothed validation loss')\n",
        "plt.title('Training and validation loss')\n",
        "plt.legend()\n",
        "\n",
        "plt.show()"
      ],
      "execution_count": null,
      "outputs": []
    },
    {
      "cell_type": "code",
      "metadata": {
        "id": "jKGRdDLzmknl"
      },
      "source": [
        "test_generator = test_datagen.flow_from_directory(\n",
        "        test_dir,\n",
        "        target_size=(150, 150),\n",
        "        batch_size=20,\n",
        "        class_mode='binary')\n",
        "\n",
        "test_loss, test_acc = model.evaluate_generator(test_generator, steps=50)\n",
        "print('test acc:', test_acc)"
      ],
      "execution_count": null,
      "outputs": []
    },
    {
      "cell_type": "markdown",
      "metadata": {
        "id": "f4Ur-jJ_uAqy"
      },
      "source": [
        "採用「預先訓練神經網路法(凍結 CNN)」，使用 Test Dataset 進行評估，大約可以提高到 97% 正確率。"
      ]
    }
  ]
}
