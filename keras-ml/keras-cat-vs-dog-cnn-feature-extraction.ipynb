{
  "nbformat": 4,
  "nbformat_minor": 0,
  "metadata": {
    "colab": {
      "provenance": []
    },
    "kernelspec": {
      "name": "python3",
      "display_name": "Python 3"
    },
    "accelerator": "GPU"
  },
  "cells": [
    {
      "cell_type": "markdown",
      "metadata": {
        "id": "zHwoKE0CaxIC"
      },
      "source": [
        "# Keras 利用預先訓練神經網路特徵萃取法訓練貓狗分類器\n",
        "\n",
        "## 透過 Kaggle API 下載 Play Dataset\n",
        "\n",
        "先從 Kaggle 下載資料集，這裡需要註冊 Kaggle 的帳號，並且取得 API Key，記得置換為自己的 API Token 才能下載資料。"
      ]
    },
    {
      "cell_type": "code",
      "metadata": {
        "id": "TAQRWCI47MBK",
        "colab": {
          "base_uri": "https://localhost:8080/",
          "height": 136
        },
        "outputId": "2347c5cd-7a63-4853-8b07-6c19016c64fd"
      },
      "source": [
        "#!pip install kaggle\n",
        "api_token = {\"username\":\"your_username\",\"key\":\"\"}\n",
        "import json\n",
        "import zipfile\n",
        "import os\n",
        "\n",
        "if not os.path.exists(\"/root/.kaggle\"):\n",
        "    os.makedirs(\"/root/.kaggle\")\n",
        "\n",
        "with open('/root/.kaggle/kaggle.json', 'w') as file:\n",
        "    json.dump(api_token, file)\n",
        "!chmod 600 /root/.kaggle/kaggle.json\n",
        "\n",
        "if not os.path.exists(\"/kaggle\"):\n",
        "    os.makedirs(\"/kaggle\")\n",
        "os.chdir('/kaggle')\n",
        "!kaggle datasets download -d chetankv/dogs-cats-images\n",
        "\n",
        "!ls -alh '/kaggle'"
      ],
      "execution_count": null,
      "outputs": [
        {
          "output_type": "stream",
          "text": [
            "dogs-cats-images.zip: Skipping, found more recently modified local copy (use --force to force download)\n",
            "total 435M\n",
            "drwxr-xr-x 4 root root 4.0K May 21 04:24  .\n",
            "drwxr-xr-x 1 root root 4.0K May 21 04:24  ..\n",
            "drwxr-xr-x 4 root root 4.0K May 21 04:24  dataset\n",
            "-rw-r--r-- 1 root root 435M May 21 04:24  dogs-cats-images.zip\n",
            "drwxr-xr-x 3 root root 4.0K May 21 04:24 'dog vs cat'\n"
          ],
          "name": "stdout"
        }
      ]
    },
    {
      "cell_type": "code",
      "metadata": {
        "id": "cNSZTgOUDfl8",
        "colab": {
          "base_uri": "https://localhost:8080/",
          "height": 34
        },
        "outputId": "0c5f8222-e76c-4ad1-8158-6ddf433be69d"
      },
      "source": [
        "!unzip 'dogs-cats-images.zip' > /dev/null"
      ],
      "execution_count": null,
      "outputs": [
        {
          "output_type": "stream",
          "text": [
            "replace dataset/test_set/cats/cat.4001.jpg? [y]es, [n]o, [A]ll, [N]one, [r]ename: A\n"
          ],
          "name": "stdout"
        }
      ]
    },
    {
      "cell_type": "markdown",
      "metadata": {
        "id": "0fICHreebcaA"
      },
      "source": [
        "看看資料的基本結構，貓與狗訓練資料夾各有 4000 張，測試資料夾各有 1000 張影像"
      ]
    },
    {
      "cell_type": "code",
      "metadata": {
        "id": "c-fK4ybQD1df",
        "colab": {
          "base_uri": "https://localhost:8080/",
          "height": 153
        },
        "outputId": "2b36f0e7-ae1f-4e3b-81e1-58f2b25eb633"
      },
      "source": [
        "!echo \"training_set cats: \"\n",
        "!echo `ls -alh '/kaggle/dataset/training_set/cats' | grep cat | wc -l`\n",
        "!echo \"training_set dogs: \"\n",
        "!echo `ls -alh '/kaggle/dataset/training_set/dogs' | grep dog | wc -l`\n",
        "!echo \"test_set cats: \"\n",
        "!echo `ls -alh '/kaggle/dataset/test_set/cats' | grep cat | wc -l`\n",
        "!echo \"test_set dogs: \"\n",
        "!echo `ls -alh '/kaggle/dataset/test_set/dogs' | grep dog | wc -l`"
      ],
      "execution_count": null,
      "outputs": [
        {
          "output_type": "stream",
          "text": [
            "training_set cats: \n",
            "4000\n",
            "training_set dogs: \n",
            "4000\n",
            "test_set cats: \n",
            "1000\n",
            "test_set dogs: \n",
            "1000\n"
          ],
          "name": "stdout"
        }
      ]
    },
    {
      "cell_type": "code",
      "metadata": {
        "id": "YnwrNtM5BxAs",
        "colab": {
          "base_uri": "https://localhost:8080/",
          "height": 119
        },
        "outputId": "8e387d85-8186-43f3-86c7-735e2003ce21"
      },
      "source": [
        "\n",
        "\n",
        "import os, shutil\n",
        "\n",
        "# The path to the directory where the original\n",
        "# dataset was uncompressed\n",
        "original_dataset_dir = '/kaggle/dataset'\n",
        "\n",
        "# The directory where we will\n",
        "# store our smaller dataset\n",
        "base_dir = '/play'\n",
        "if not os.path.exists(base_dir):\n",
        "    os.mkdir(base_dir)\n",
        "\n",
        "# Directories for our training,\n",
        "# validation and test splits\n",
        "train_dir = os.path.join(base_dir, 'train')\n",
        "if not os.path.exists(train_dir):\n",
        "    os.mkdir(train_dir)\n",
        "validation_dir = os.path.join(base_dir, 'validation')\n",
        "if not os.path.exists(validation_dir):\n",
        "    os.mkdir(validation_dir)\n",
        "test_dir = os.path.join(base_dir, 'test')\n",
        "if not os.path.exists(test_dir):\n",
        "    os.mkdir(test_dir)\n",
        "\n",
        "# Directory with our training cat pictures\n",
        "train_cats_dir = os.path.join(train_dir, 'cats')\n",
        "if not os.path.exists(train_cats_dir):\n",
        "    os.mkdir(train_cats_dir)\n",
        "\n",
        "# Directory with our training dog pictures\n",
        "train_dogs_dir = os.path.join(train_dir, 'dogs')\n",
        "if not os.path.exists(train_dogs_dir):\n",
        "    os.mkdir(train_dogs_dir)\n",
        "\n",
        "# Directory with our validation cat pictures\n",
        "validation_cats_dir = os.path.join(validation_dir, 'cats')\n",
        "if not os.path.exists(validation_cats_dir):\n",
        "    os.mkdir(validation_cats_dir)\n",
        "\n",
        "# Directory with our validation dog pictures\n",
        "validation_dogs_dir = os.path.join(validation_dir, 'dogs')\n",
        "if not os.path.exists(validation_dogs_dir):\n",
        "    os.mkdir(validation_dogs_dir)\n",
        "\n",
        "# Directory with our validation cat pictures\n",
        "test_cats_dir = os.path.join(test_dir, 'cats')\n",
        "if not os.path.exists(test_cats_dir):\n",
        "    os.mkdir(test_cats_dir)\n",
        "\n",
        "# Directory with our validation dog pictures\n",
        "test_dogs_dir = os.path.join(test_dir, 'dogs')\n",
        "if not os.path.exists(test_dogs_dir):\n",
        "    os.mkdir(test_dogs_dir)\n",
        "\n",
        "# Copy first 1000 cat images to train_cats_dir\n",
        "fnames = ['cat.{}.jpg'.format(i) for i in range(1, 1001)]\n",
        "for fname in fnames:\n",
        "    src = os.path.join(original_dataset_dir, 'training_set', 'cats', fname)\n",
        "    dst = os.path.join(train_cats_dir, fname)\n",
        "    shutil.copyfile(src, dst)\n",
        "\n",
        "# Copy next 500 cat images to validation_cats_dir\n",
        "fnames = ['cat.{}.jpg'.format(i) for i in range(4001, 4501)]\n",
        "for fname in fnames:\n",
        "    src = os.path.join(original_dataset_dir, 'test_set', 'cats', fname)\n",
        "    dst = os.path.join(validation_cats_dir, fname)\n",
        "    shutil.copyfile(src, dst)\n",
        "    \n",
        "# Copy next 500 cat images to test_cats_dir\n",
        "fnames = ['cat.{}.jpg'.format(i) for i in range(4501, 5001)]\n",
        "for fname in fnames:\n",
        "    src = os.path.join(original_dataset_dir, 'test_set', 'cats', fname)\n",
        "    dst = os.path.join(test_cats_dir, fname)\n",
        "    shutil.copyfile(src, dst)\n",
        "    \n",
        "# Copy first 1000 dog images to train_dogs_dir\n",
        "fnames = ['dog.{}.jpg'.format(i) for i in range(1, 1001)]\n",
        "for fname in fnames:\n",
        "    src = os.path.join(original_dataset_dir, 'training_set', 'dogs', fname)\n",
        "    dst = os.path.join(train_dogs_dir, fname)\n",
        "    shutil.copyfile(src, dst)\n",
        "    \n",
        "# Copy next 500 dog images to validation_dogs_dir\n",
        "fnames = ['dog.{}.jpg'.format(i) for i in range(4001, 4501)]\n",
        "for fname in fnames:\n",
        "    src = os.path.join(original_dataset_dir, 'test_set', 'dogs', fname)\n",
        "    dst = os.path.join(validation_dogs_dir, fname)\n",
        "    shutil.copyfile(src, dst)\n",
        "    \n",
        "# Copy next 500 dog images to test_dogs_dir\n",
        "fnames = ['dog.{}.jpg'.format(i) for i in range(4501, 5001)]\n",
        "for fname in fnames:\n",
        "    src = os.path.join(original_dataset_dir, 'test_set', 'dogs', fname)\n",
        "    dst = os.path.join(test_dogs_dir, fname)\n",
        "    shutil.copyfile(src, dst)\n",
        "\n",
        "print('total training cat images:', len(os.listdir(train_cats_dir)))\n",
        "print('total training dog images:', len(os.listdir(train_dogs_dir)))\n",
        "print('total validation cat images:', len(os.listdir(validation_cats_dir)))\n",
        "print('total validation dog images:', len(os.listdir(validation_dogs_dir)))\n",
        "print('total test cat images:', len(os.listdir(test_cats_dir)))\n",
        "print('total test dog images:', len(os.listdir(test_dogs_dir)))"
      ],
      "execution_count": null,
      "outputs": [
        {
          "output_type": "stream",
          "text": [
            "total training cat images: 1000\n",
            "total training dog images: 1000\n",
            "total validation cat images: 500\n",
            "total validation dog images: 500\n",
            "total test cat images: 500\n",
            "total test dog images: 500\n"
          ],
          "name": "stdout"
        }
      ]
    },
    {
      "cell_type": "markdown",
      "metadata": {
        "id": "pChQEVYw0GL9"
      },
      "source": [
        "## 預先訓練神經網路的特徵萃取法\n",
        "\n",
        "我們知道 CNN 卷積層的訓練需要很多數據與運算資源，在資料集不足的情況下，從頭訓練卷積層不是一個聰明的方法。何不直接採用大神訓練好的卷積層，加速 AI Time to Market。由於卷積網路可以學習影像特徵，越接近 Input 的 Layer 所能理解的特徵越「普適」而且抽象，像是紋理、顏色等等。越後面的 Layer 所學習到的特徵越接近物體的描述，像是耳朵、眼睛等等。\n",
        "\n",
        "這裡我們採用 VGG16 Model，並提取 imagenet 包含 CNN 網路，這裡的網路已經經過大量的訓練，可以分辨圖片中的各種特徵。我們可以看到 CNN 在沒有連接層的情況下有 14,714,688 個參數，可見訓練過程實在很耗費運算。"
      ]
    },
    {
      "cell_type": "code",
      "metadata": {
        "id": "MZEnme1hAO8X",
        "colab": {
          "base_uri": "https://localhost:8080/",
          "height": 799
        },
        "outputId": "a4c10d68-c26a-4f3f-9da5-36a4bb004aad"
      },
      "source": [
        "# 載入 VGG 網路 Convolutional Base\n",
        "from keras.applications import VGG16\n",
        "\n",
        "conv_base = VGG16(weights='imagenet',\n",
        "                  include_top=False,             # 不包含 Full Connection\n",
        "                  input_shape=(150, 150, 3))\n",
        "\n",
        "conv_base.summary()"
      ],
      "execution_count": null,
      "outputs": [
        {
          "output_type": "stream",
          "text": [
            "Model: \"vgg16\"\n",
            "_________________________________________________________________\n",
            "Layer (type)                 Output Shape              Param #   \n",
            "=================================================================\n",
            "input_2 (InputLayer)         (None, 150, 150, 3)       0         \n",
            "_________________________________________________________________\n",
            "block1_conv1 (Conv2D)        (None, 150, 150, 64)      1792      \n",
            "_________________________________________________________________\n",
            "block1_conv2 (Conv2D)        (None, 150, 150, 64)      36928     \n",
            "_________________________________________________________________\n",
            "block1_pool (MaxPooling2D)   (None, 75, 75, 64)        0         \n",
            "_________________________________________________________________\n",
            "block2_conv1 (Conv2D)        (None, 75, 75, 128)       73856     \n",
            "_________________________________________________________________\n",
            "block2_conv2 (Conv2D)        (None, 75, 75, 128)       147584    \n",
            "_________________________________________________________________\n",
            "block2_pool (MaxPooling2D)   (None, 37, 37, 128)       0         \n",
            "_________________________________________________________________\n",
            "block3_conv1 (Conv2D)        (None, 37, 37, 256)       295168    \n",
            "_________________________________________________________________\n",
            "block3_conv2 (Conv2D)        (None, 37, 37, 256)       590080    \n",
            "_________________________________________________________________\n",
            "block3_conv3 (Conv2D)        (None, 37, 37, 256)       590080    \n",
            "_________________________________________________________________\n",
            "block3_pool (MaxPooling2D)   (None, 18, 18, 256)       0         \n",
            "_________________________________________________________________\n",
            "block4_conv1 (Conv2D)        (None, 18, 18, 512)       1180160   \n",
            "_________________________________________________________________\n",
            "block4_conv2 (Conv2D)        (None, 18, 18, 512)       2359808   \n",
            "_________________________________________________________________\n",
            "block4_conv3 (Conv2D)        (None, 18, 18, 512)       2359808   \n",
            "_________________________________________________________________\n",
            "block4_pool (MaxPooling2D)   (None, 9, 9, 512)         0         \n",
            "_________________________________________________________________\n",
            "block5_conv1 (Conv2D)        (None, 9, 9, 512)         2359808   \n",
            "_________________________________________________________________\n",
            "block5_conv2 (Conv2D)        (None, 9, 9, 512)         2359808   \n",
            "_________________________________________________________________\n",
            "block5_conv3 (Conv2D)        (None, 9, 9, 512)         2359808   \n",
            "_________________________________________________________________\n",
            "block5_pool (MaxPooling2D)   (None, 4, 4, 512)         0         \n",
            "=================================================================\n",
            "Total params: 14,714,688\n",
            "Trainable params: 14,714,688\n",
            "Non-trainable params: 0\n",
            "_________________________________________________________________\n"
          ],
          "name": "stdout"
        }
      ]
    },
    {
      "cell_type": "markdown",
      "metadata": {
        "id": "B3utWju6cYr2"
      },
      "source": [
        "接下來透過已經訓練好的卷積網路來萃取特徵，這裡的程式將圖片影像直接送入卷積網路，透過 predict 將計算出的數值儲存起來，後續會用來訓練 Full Connection 分類網路。"
      ]
    },
    {
      "cell_type": "code",
      "metadata": {
        "id": "9a9RRsbT9QQI",
        "colab": {
          "base_uri": "https://localhost:8080/",
          "height": 68
        },
        "outputId": "dab3c530-d980-4e59-dc2c-16c6aadf6759"
      },
      "source": [
        "import os\n",
        "import numpy as np\n",
        "from keras.preprocessing.image import ImageDataGenerator\n",
        "\n",
        "datagen = ImageDataGenerator(rescale=1./255)\n",
        "batch_size = 20\n",
        "\n",
        "def extract_features(directory, sample_count):\n",
        "    features = np.zeros(shape=(sample_count, 4, 4, 512))\n",
        "    labels = np.zeros(shape=(sample_count))\n",
        "    generator = datagen.flow_from_directory(\n",
        "        directory,\n",
        "        target_size=(150, 150),\n",
        "        batch_size=batch_size,\n",
        "        class_mode='binary')\n",
        "    i = 0\n",
        "    for inputs_batch, labels_batch in generator:\n",
        "        features_batch = conv_base.predict(inputs_batch)\n",
        "        features[i * batch_size : (i + 1) * batch_size] = features_batch\n",
        "        labels[i * batch_size : (i + 1) * batch_size] = labels_batch\n",
        "        i += 1\n",
        "        if i * batch_size >= sample_count:\n",
        "            # Note that since generators yield data indefinitely in a loop,\n",
        "            # we must `break` after every image has been seen once.\n",
        "            break\n",
        "    return features, labels\n",
        "\n",
        "train_features, train_labels = extract_features(train_dir, 2000)\n",
        "validation_features, validation_labels = extract_features(validation_dir, 1000)\n",
        "test_features, test_labels = extract_features(test_dir, 1000)\n",
        "\n",
        "train_features = np.reshape(train_features, (2000, 4 * 4 * 512))\n",
        "validation_features = np.reshape(validation_features, (1000, 4 * 4 * 512))\n",
        "test_features = np.reshape(test_features, (1000, 4 * 4 * 512))"
      ],
      "execution_count": null,
      "outputs": [
        {
          "output_type": "stream",
          "text": [
            "Found 2000 images belonging to 2 classes.\n",
            "Found 1000 images belonging to 2 classes.\n",
            "Found 1000 images belonging to 2 classes.\n"
          ],
          "name": "stdout"
        }
      ]
    },
    {
      "cell_type": "markdown",
      "metadata": {
        "id": "l-odMgOIdc6v"
      },
      "source": [
        "# 使用特徵訓練網路\n",
        "\n",
        "由於我們剛剛已經用 VGG16 CNN 抽取特徵，因此真正訓練分類網路的時候就不是輸入圖片，而是輸入這些計算好的特徵。"
      ]
    },
    {
      "cell_type": "code",
      "metadata": {
        "id": "Dnm5AHSW0dyS",
        "colab": {
          "base_uri": "https://localhost:8080/",
          "height": 1000
        },
        "outputId": "762a28cb-3913-49ea-cd90-02d1dbdda155"
      },
      "source": [
        "from keras import models\n",
        "from keras import layers\n",
        "from keras import optimizers\n",
        "\n",
        "model = models.Sequential()\n",
        "model.add(layers.Dense(256, activation='relu', input_dim=4 * 4 * 512))\n",
        "model.add(layers.Dropout(0.5))\n",
        "model.add(layers.Dense(1, activation='sigmoid'))\n",
        "\n",
        "model.compile(optimizer=optimizers.RMSprop(lr=2e-5),\n",
        "              loss='binary_crossentropy',\n",
        "              metrics=['acc'])\n",
        "\n",
        "history = model.fit(train_features, train_labels,\n",
        "                    epochs=30,\n",
        "                    batch_size=20,\n",
        "                    validation_data=(validation_features, validation_labels))"
      ],
      "execution_count": null,
      "outputs": [
        {
          "output_type": "stream",
          "text": [
            "Train on 2000 samples, validate on 1000 samples\n",
            "Epoch 1/30\n",
            "2000/2000 [==============================] - 1s 355us/step - loss: 0.6112 - acc: 0.6650 - val_loss: 0.4516 - val_acc: 0.8320\n",
            "Epoch 2/30\n",
            "2000/2000 [==============================] - 1s 286us/step - loss: 0.4257 - acc: 0.8100 - val_loss: 0.3708 - val_acc: 0.8620\n",
            "Epoch 3/30\n",
            "2000/2000 [==============================] - 1s 284us/step - loss: 0.3578 - acc: 0.8570 - val_loss: 0.3348 - val_acc: 0.8700\n",
            "Epoch 4/30\n",
            "2000/2000 [==============================] - 1s 293us/step - loss: 0.3160 - acc: 0.8685 - val_loss: 0.3121 - val_acc: 0.8740\n",
            "Epoch 5/30\n",
            "2000/2000 [==============================] - 1s 290us/step - loss: 0.2878 - acc: 0.8860 - val_loss: 0.2965 - val_acc: 0.8780\n",
            "Epoch 6/30\n",
            "2000/2000 [==============================] - 1s 286us/step - loss: 0.2679 - acc: 0.8965 - val_loss: 0.2869 - val_acc: 0.8800\n",
            "Epoch 7/30\n",
            "2000/2000 [==============================] - 1s 281us/step - loss: 0.2547 - acc: 0.8985 - val_loss: 0.2781 - val_acc: 0.8850\n",
            "Epoch 8/30\n",
            "2000/2000 [==============================] - 1s 282us/step - loss: 0.2393 - acc: 0.9085 - val_loss: 0.2764 - val_acc: 0.8830\n",
            "Epoch 9/30\n",
            "2000/2000 [==============================] - 1s 286us/step - loss: 0.2178 - acc: 0.9165 - val_loss: 0.2677 - val_acc: 0.8890\n",
            "Epoch 10/30\n",
            "2000/2000 [==============================] - 1s 285us/step - loss: 0.2158 - acc: 0.9190 - val_loss: 0.2631 - val_acc: 0.8910\n",
            "Epoch 11/30\n",
            "2000/2000 [==============================] - 1s 285us/step - loss: 0.2048 - acc: 0.9245 - val_loss: 0.2665 - val_acc: 0.8910\n",
            "Epoch 12/30\n",
            "2000/2000 [==============================] - 1s 289us/step - loss: 0.1918 - acc: 0.9290 - val_loss: 0.2607 - val_acc: 0.8950\n",
            "Epoch 13/30\n",
            "2000/2000 [==============================] - 1s 279us/step - loss: 0.1785 - acc: 0.9365 - val_loss: 0.2564 - val_acc: 0.8980\n",
            "Epoch 14/30\n",
            "2000/2000 [==============================] - 1s 297us/step - loss: 0.1766 - acc: 0.9370 - val_loss: 0.2602 - val_acc: 0.9000\n",
            "Epoch 15/30\n",
            "2000/2000 [==============================] - 1s 283us/step - loss: 0.1706 - acc: 0.9435 - val_loss: 0.2734 - val_acc: 0.8840\n",
            "Epoch 16/30\n",
            "2000/2000 [==============================] - 1s 271us/step - loss: 0.1650 - acc: 0.9435 - val_loss: 0.2491 - val_acc: 0.8970\n",
            "Epoch 17/30\n",
            "2000/2000 [==============================] - 1s 283us/step - loss: 0.1549 - acc: 0.9440 - val_loss: 0.2478 - val_acc: 0.8980\n",
            "Epoch 18/30\n",
            "2000/2000 [==============================] - 1s 275us/step - loss: 0.1503 - acc: 0.9440 - val_loss: 0.2480 - val_acc: 0.8990\n",
            "Epoch 19/30\n",
            "2000/2000 [==============================] - 1s 281us/step - loss: 0.1402 - acc: 0.9520 - val_loss: 0.2542 - val_acc: 0.8970\n",
            "Epoch 20/30\n",
            "2000/2000 [==============================] - 1s 287us/step - loss: 0.1350 - acc: 0.9505 - val_loss: 0.2474 - val_acc: 0.9010\n",
            "Epoch 21/30\n",
            "2000/2000 [==============================] - 1s 282us/step - loss: 0.1336 - acc: 0.9580 - val_loss: 0.2452 - val_acc: 0.9010\n",
            "Epoch 22/30\n",
            "2000/2000 [==============================] - 1s 278us/step - loss: 0.1261 - acc: 0.9545 - val_loss: 0.2462 - val_acc: 0.9050\n",
            "Epoch 23/30\n",
            "2000/2000 [==============================] - 1s 287us/step - loss: 0.1207 - acc: 0.9605 - val_loss: 0.2448 - val_acc: 0.9010\n",
            "Epoch 24/30\n",
            "2000/2000 [==============================] - 1s 295us/step - loss: 0.1160 - acc: 0.9635 - val_loss: 0.2437 - val_acc: 0.9020\n",
            "Epoch 25/30\n",
            "2000/2000 [==============================] - 1s 284us/step - loss: 0.1140 - acc: 0.9630 - val_loss: 0.2447 - val_acc: 0.9040\n",
            "Epoch 26/30\n",
            "2000/2000 [==============================] - 1s 286us/step - loss: 0.1025 - acc: 0.9660 - val_loss: 0.2453 - val_acc: 0.9010\n",
            "Epoch 27/30\n",
            "2000/2000 [==============================] - 1s 293us/step - loss: 0.1000 - acc: 0.9655 - val_loss: 0.2433 - val_acc: 0.9030\n",
            "Epoch 28/30\n",
            "2000/2000 [==============================] - 1s 286us/step - loss: 0.0994 - acc: 0.9705 - val_loss: 0.2463 - val_acc: 0.9060\n",
            "Epoch 29/30\n",
            "2000/2000 [==============================] - 1s 280us/step - loss: 0.0923 - acc: 0.9705 - val_loss: 0.2440 - val_acc: 0.9080\n",
            "Epoch 30/30\n",
            "2000/2000 [==============================] - 1s 287us/step - loss: 0.0903 - acc: 0.9735 - val_loss: 0.2502 - val_acc: 0.9050\n"
          ],
          "name": "stdout"
        }
      ]
    },
    {
      "cell_type": "markdown",
      "metadata": {
        "id": "dcQ7wwSYd7Rg"
      },
      "source": [
        "# 透過圖表分析訓練過程"
      ]
    },
    {
      "cell_type": "code",
      "metadata": {
        "id": "DUvlCl6nAWw_",
        "colab": {
          "base_uri": "https://localhost:8080/",
          "height": 545
        },
        "outputId": "a4ebe0c0-11a7-40ab-fdf2-85d0cb85ce8b"
      },
      "source": [
        "import matplotlib.pyplot as plt\n",
        "\n",
        "acc = history.history['acc']\n",
        "val_acc = history.history['val_acc']\n",
        "loss = history.history['loss']\n",
        "val_loss = history.history['val_loss']\n",
        "\n",
        "epochs = range(len(acc))\n",
        "\n",
        "plt.plot(epochs, acc, 'bo', label='Training acc')\n",
        "plt.plot(epochs, val_acc, 'b', label='Validation acc')\n",
        "plt.title('Training and validation accuracy')\n",
        "plt.legend()\n",
        "\n",
        "plt.figure()\n",
        "\n",
        "plt.plot(epochs, loss, 'bo', label='Training loss')\n",
        "plt.plot(epochs, val_loss, 'b', label='Validation loss')\n",
        "plt.title('Training and validation loss')\n",
        "plt.legend()\n",
        "\n",
        "plt.show()"
      ],
      "execution_count": null,
      "outputs": [
        {
          "output_type": "display_data",
          "data": {
            "image/png": "[encoded data removed]",
            "text/plain": [
              "<Figure size 432x288 with 1 Axes>"
            ]
          },
          "metadata": {
            "tags": [],
            "needs_background": "light"
          }
        },
        {
          "output_type": "display_data",
          "data": {
            "image/png": "[encoded data removed]",
            "text/plain": [
              "<Figure size 432x288 with 1 Axes>"
            ]
          },
          "metadata": {
            "tags": [],
            "needs_background": "light"
          }
        }
      ]
    },
    {
      "cell_type": "markdown",
      "metadata": {
        "id": "IP8Jqn5weBqM"
      },
      "source": [
        "透過這樣的方法可以獲得將約 0.9 的正確性，效果比資料擴增法又好上一點。如果合併兩種方法 (資料擴充 + 特增萃取)，成本會高一些，但是可以提升到 0.95 的正確性。"
      ]
    },
    {
      "cell_type": "code",
      "metadata": {
        "id": "0urQBZnI3WfK"
      },
      "source": [],
      "execution_count": null,
      "outputs": []
    }
  ]
}
